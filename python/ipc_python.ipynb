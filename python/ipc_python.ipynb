{
  "nbformat": 4,
  "nbformat_minor": 0,
  "metadata": {
    "colab": {
      "name": "ipc-python.ipynb",
      "provenance": [],
      "authorship_tag": "ABX9TyOKphF5IxN4/zGUw4NXM+AI",
      "include_colab_link": true
    },
    "kernelspec": {
      "name": "python3",
      "display_name": "Python 3"
    },
    "language_info": {
      "name": "python"
    }
  },
  "cells": [
    {
      "cell_type": "markdown",
      "metadata": {
        "id": "view-in-github",
        "colab_type": "text"
      },
      "source": [
        "<a href=\"https://colab.research.google.com/github/p76081158/ipc-example/blob/main/python/ipc_python.ipynb\" target=\"_parent\"><img src=\"https://colab.research.google.com/assets/colab-badge.svg\" alt=\"Open In Colab\"/></a>"
      ]
    },
    {
      "cell_type": "markdown",
      "source": [
        "Examples of Inter-Process Communication\n",
        "* [Inter-Process Communication](https://vcx1127.notion.site/Inter-Process-Communication-4be174067b024db69160f362f3f31668)"
      ],
      "metadata": {
        "id": "q81iiWTtASqB"
      }
    },
    {
      "cell_type": "markdown",
      "source": [
        "![](https://i.imgur.com/IUjClbL.png)\n",
        "* 總共 4 個 processes (Main、3 Clients)"
      ],
      "metadata": {
        "id": "F5J7NURrxhX9"
      }
    },
    {
      "cell_type": "code",
      "source": [
        "from io import StringIO\n",
        "import threading\n",
        "import time\n",
        "import os\n",
        "import errno\n",
        "import socket\n",
        "import sys\n",
        "import statistics"
      ],
      "metadata": {
        "id": "w0mLBC_P_7Tg"
      },
      "execution_count": null,
      "outputs": []
    },
    {
      "cell_type": "code",
      "source": [
        "# var\n",
        "FIFO  = 'mypipe'\n",
        "Shared = None"
      ],
      "metadata": {
        "id": "Rc1gSrH2VxFK"
      },
      "execution_count": null,
      "outputs": []
    },
    {
      "cell_type": "markdown",
      "source": [
        "* 定義 Named Pipes file name 和 Shared Memory"
      ],
      "metadata": {
        "id": "UNU2wgsmrRfM"
      }
    },
    {
      "cell_type": "code",
      "source": [
        "# get mean value\n",
        "def caclmean(nums):\n",
        "    return statistics.mean(nums)"
      ],
      "metadata": {
        "id": "b2gaBVmU__b6"
      },
      "execution_count": null,
      "outputs": []
    },
    {
      "cell_type": "code",
      "source": [
        "# get median value\n",
        "def caclmedian(nums):\n",
        "    return statistics.median(nums)"
      ],
      "metadata": {
        "id": "LmZUAHteCwKW"
      },
      "execution_count": null,
      "outputs": []
    },
    {
      "cell_type": "code",
      "source": [
        "# get mode value\n",
        "def caclmode(nums):\n",
        "    return statistics.mode(nums)"
      ],
      "metadata": {
        "id": "kSTBAnRuC6D6"
      },
      "execution_count": null,
      "outputs": []
    },
    {
      "cell_type": "code",
      "source": [
        "# string to int array\n",
        "def string_to_array(str):\n",
        "    return list(map(int, str.split(\" \")))"
      ],
      "metadata": {
        "id": "-p0TciFyBEU9"
      },
      "execution_count": null,
      "outputs": []
    },
    {
      "cell_type": "code",
      "source": [
        "# tcp socket client\n",
        "def client1():\n",
        "    HOST = '127.0.0.1'\n",
        "    PORT = 8020\n",
        "    clientMessage = 'Client1 is ready'\n",
        "\n",
        "    client = socket.socket(socket.AF_INET, socket.SOCK_STREAM)\n",
        "    client.connect((HOST, PORT))\n",
        "    client.sendall(clientMessage.encode())\n",
        "\n",
        "    serverMessage = str(client.recv(1024), encoding='utf-8')\n",
        "    \n",
        "    # print Mean value\n",
        "    print('Mean is', caclmean(string_to_array(serverMessage)))\n",
        "\n",
        "    client.close()"
      ],
      "metadata": {
        "id": "vE59D02O5qaj"
      },
      "execution_count": null,
      "outputs": []
    },
    {
      "cell_type": "markdown",
      "source": [
        "| 欄位類別 | 名稱宣告 | 解釋內容 |\n",
        "| --- | --- | --- |\n",
        "| family | socket.AF_UNIX\t | 於本機端進行串接 |\n",
        "| --- | socket.AF_INET | 於伺服器與伺服器之間進行串接 |\n",
        "| --- | socket.AF_INET6 | 使用IPv6於伺服器與伺服器之間進行串接 |\n",
        "| type | socket.SOCK_STREAM\t | 使用TCP(資料流)的方式提供可靠、雙向、串流的通信頻道 |\n",
        "| --- | socket.SOCK_DGRAM | 使用UDP()的方式通用的免連線訊息交換通道 |"
      ],
      "metadata": {
        "id": "RtmZ-J1RsbX_"
      }
    },
    {
      "cell_type": "code",
      "source": [
        "# named pipes client\n",
        "def client2():\n",
        "    print(\"Client2 is ready\\n\")\n",
        "    while True:\n",
        "        with open(FIFO) as fifo:\n",
        "            while True:\n",
        "                data = fifo.read()\n",
        "                if len(data) == 0:\n",
        "                    break\n",
        "                print('Median is', caclmedian(string_to_array(data)))\n",
        "                sys.exit()"
      ],
      "metadata": {
        "id": "YKIaQRQ8GX6F"
      },
      "execution_count": null,
      "outputs": []
    },
    {
      "cell_type": "code",
      "source": [
        "# shared memory client\n",
        "def client3():\n",
        "    global Shared\n",
        "    print(\"Client3 is ready\\n\")\n",
        "    while Shared == None:\n",
        "        continue\n",
        "    print('Mode is', caclmode(string_to_array(Shared)))"
      ],
      "metadata": {
        "id": "yBHoHN_elSK0"
      },
      "execution_count": null,
      "outputs": []
    },
    {
      "cell_type": "code",
      "source": [
        "# tcp server\n",
        "HOST = '127.0.0.1'\n",
        "PORT = 8020\n",
        "\n",
        "server = socket.socket(socket.AF_INET, socket.SOCK_STREAM)\n",
        "server.bind((HOST, PORT))\n",
        "server.listen(10)"
      ],
      "metadata": {
        "id": "Fv1DC4FT65sN"
      },
      "execution_count": null,
      "outputs": []
    },
    {
      "cell_type": "code",
      "source": [
        "# named piped server\n",
        "FIFO = 'mypipe'\n",
        "try:\n",
        "    os.mkfifo(FIFO)\n",
        "except OSError as oe:\n",
        "    if oe.errno != errno.EEXIST:\n",
        "        raise"
      ],
      "metadata": {
        "id": "PAxlUIirH7CO"
      },
      "execution_count": null,
      "outputs": []
    },
    {
      "cell_type": "code",
      "source": [
        "# start clients\n",
        "c1 = threading.Thread(name='client1', target=client1)\n",
        "c2 = threading.Thread(name='client2', target=client2)\n",
        "c3 = threading.Thread(name='client3', target=client3)\n",
        "c1.start()\n",
        "c2.start()\n",
        "c3.start()"
      ],
      "metadata": {
        "colab": {
          "base_uri": "https://localhost:8080/"
        },
        "id": "QkxJtjmTH9ex",
        "outputId": "062e8087-6fea-445e-ab52-1df5c49a7132"
      },
      "execution_count": null,
      "outputs": [
        {
          "output_type": "stream",
          "name": "stdout",
          "text": [
            "Client2 is ready\n",
            "\n",
            "Client3 is ready\n",
            "\n"
          ]
        }
      ]
    },
    {
      "cell_type": "markdown",
      "source": [
        "* 使用 3 個 Threads 分別執行 Clients"
      ],
      "metadata": {
        "id": "Y7MjEzdpsdtD"
      }
    },
    {
      "cell_type": "code",
      "source": [
        "# tcp server accept client connection\n",
        "conn, addr = server.accept()\n",
        "clientMessage = str(conn.recv(1024), encoding='utf-8')\n",
        "\n",
        "print(clientMessage)"
      ],
      "metadata": {
        "colab": {
          "base_uri": "https://localhost:8080/"
        },
        "id": "Sa7KcXQDIEHP",
        "outputId": "f491f10e-0127-431e-beb2-c837de879fb0"
      },
      "execution_count": null,
      "outputs": [
        {
          "output_type": "stream",
          "name": "stdout",
          "text": [
            "Client1 is ready\n"
          ]
        }
      ]
    },
    {
      "cell_type": "code",
      "source": [
        "# stdin via StringIO\n",
        "sys.stdin = StringIO(\"1 5 5 10 15 2 3\\n\")\n",
        "msg       = sys.stdin.readline()"
      ],
      "metadata": {
        "id": "D1PNEoXP7v-Y"
      },
      "execution_count": null,
      "outputs": []
    },
    {
      "cell_type": "markdown",
      "source": [
        "* 透過 StringIO 在 Jupyiter notebook 上模擬 Stdin"
      ],
      "metadata": {
        "id": "-fepbtE4sxNV"
      }
    },
    {
      "cell_type": "code",
      "source": [
        "# tcp server send to client1\n",
        "conn.sendall(msg.encode())\n",
        "conn.close()"
      ],
      "metadata": {
        "colab": {
          "base_uri": "https://localhost:8080/"
        },
        "id": "QL3FKX1gImWk",
        "outputId": "15e0a9ed-32e8-4b28-ffbd-e4e16c23b7c7"
      },
      "execution_count": null,
      "outputs": [
        {
          "output_type": "stream",
          "name": "stdout",
          "text": [
            "Mean is 5.857142857142857\n"
          ]
        }
      ]
    },
    {
      "cell_type": "code",
      "source": [
        "# named piped server send to client2\n",
        "result = os.system('echo {0} > mypipe '.format('\"'+msg+'\"'))"
      ],
      "metadata": {
        "colab": {
          "base_uri": "https://localhost:8080/"
        },
        "id": "R9GPxdnqINzV",
        "outputId": "ced22673-127b-41c5-f24b-ccaa6f172717"
      },
      "execution_count": null,
      "outputs": [
        {
          "output_type": "stream",
          "name": "stdout",
          "text": [
            "Median is 5\n"
          ]
        }
      ]
    },
    {
      "cell_type": "code",
      "source": [
        "# shared memory server update memory\n",
        "Shared = msg"
      ],
      "metadata": {
        "colab": {
          "base_uri": "https://localhost:8080/"
        },
        "id": "GYpPJ9dvmYjm",
        "outputId": "0535c51d-7c90-450b-8ae7-0e02c4449085"
      },
      "execution_count": null,
      "outputs": [
        {
          "output_type": "stream",
          "name": "stdout",
          "text": [
            "Mode is 5\n"
          ]
        }
      ]
    },
    {
      "cell_type": "code",
      "source": [
        "# program ending\n",
        "print(\"Ending\\n\")\n",
        "c1.join()\n",
        "c2.join()\n",
        "c3.join()"
      ],
      "metadata": {
        "id": "qYZv63Fa99rF",
        "colab": {
          "base_uri": "https://localhost:8080/"
        },
        "outputId": "cd3e16bf-a470-4730-f66b-09d6d6bf7497"
      },
      "execution_count": null,
      "outputs": [
        {
          "output_type": "stream",
          "name": "stdout",
          "text": [
            "Ending\n",
            "\n"
          ]
        }
      ]
    }
  ]
}